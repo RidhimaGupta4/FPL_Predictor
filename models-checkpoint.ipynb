{
 "cells": [
  {
   "cell_type": "code",
   "execution_count": 138,
   "metadata": {},
   "outputs": [],
   "source": [
    "# Import necessary packages\n",
    "\n",
    "import pandas as pd\n",
    "import numpy as np\n",
    "import seaborn as sns\n",
    "import matplotlib.pyplot as plt\n",
    "\n",
    "import sklearn\n",
    "from sklearn.compose import make_column_transformer\n",
    "from sklearn.pipeline import make_pipeline\n",
    "\n",
    "from sklearn.preprocessing import OneHotEncoder\n",
    "from sklearn.preprocessing import StandardScaler\n",
    "from sklearn.decomposition import PCA\n",
    "from sklearn.model_selection import RandomizedSearchCV, GridSearchCV\n",
    "\n",
    "from sklearn.linear_model import Ridge, LinearRegression\n",
    "from sklearn.ensemble import RandomForestRegressor\n",
    "from sklearn.tree import DecisionTreeRegressor\n",
    "\n",
    "from sklearn.metrics import mean_squared_error, mean_absolute_percentage_error\n",
    "\n",
    "import warnings\n",
    "warnings.filterwarnings('ignore')"
   ]
  },
  {
   "cell_type": "code",
   "execution_count": 139,
   "metadata": {},
   "outputs": [
    {
     "name": "stdout",
     "output_type": "stream",
     "text": [
      "Dataset Shapes \n",
      "\n",
      "- Development Set: (77930, 26)\n",
      "- Test Set: (19483, 26)\n"
     ]
    }
   ],
   "source": [
    "# Load The Datasets\n",
    "df_dev = pd.read_csv(\"data/dev.csv\").drop(columns = ['position', 'element'])\n",
    "df_test = pd.read_csv(\"data/test.csv\").drop(columns = ['position', 'element'])\n",
    "\n",
    "print(\"Dataset Shapes \\n\")\n",
    "print(\"- Development Set: {}\".format(df_dev.shape))\n",
    "print(\"- Test Set: {}\".format(df_test.shape))"
   ]
  },
  {
   "cell_type": "code",
   "execution_count": 140,
   "metadata": {},
   "outputs": [],
   "source": [
    "# Split into features\n",
    "X_dev, y_dev = df_dev.drop(columns=[\"total_points\"]), df_dev[\"total_points\"]\n",
    "X_test, y_test = df_test.drop(columns=[\"total_points\"]), df_test[\"total_points\"]\n",
    "\n",
    "y_dev = np.reshape(y_dev.values, (-1, 1))\n",
    "y_test = np.reshape(y_test.values, (-1, 1))"
   ]
  },
  {
   "cell_type": "code",
   "execution_count": 141,
   "metadata": {},
   "outputs": [],
   "source": [
    "scaler = StandardScaler()\n",
    "pca = PCA()\n",
    "preprocess = make_column_transformer((scaler, X_dev.columns), \n",
    "                                     (pca, X_dev.columns))"
   ]
  },
  {
   "cell_type": "code",
   "execution_count": 123,
   "metadata": {},
   "outputs": [],
   "source": [
    "# imp_features = ['minutes', 'ict_index', 'value', 'transfers_in', 'transfers_balance', 'transfers_out', 'element', 'creativity', 'influence', 'selected', 'bps', 'threat']\n",
    "# X_dev = X_dev[imp_features]\n",
    "# X_test = X_test[imp_features]\n",
    "\n",
    "# Xscaler = StandardScaler()\n",
    "# X_dev = Xscaler.fit_transform(X_dev)\n",
    "# X_test = Xscaler.transform(X_test)"
   ]
  },
  {
   "cell_type": "code",
   "execution_count": 142,
   "metadata": {},
   "outputs": [],
   "source": [
    "yscaler = StandardScaler()\n",
    "y_dev = yscaler.fit_transform(y_dev)\n",
    "y_test = yscaler.transform(y_test)"
   ]
  },
  {
   "cell_type": "markdown",
   "metadata": {},
   "source": [
    "### Linear Regression"
   ]
  },
  {
   "cell_type": "code",
   "execution_count": 125,
   "metadata": {
    "scrolled": true
   },
   "outputs": [
    {
     "data": {
      "text/plain": [
       "0.8552591543266335"
      ]
     },
     "execution_count": 125,
     "metadata": {},
     "output_type": "execute_result"
    }
   ],
   "source": [
    "pipe = make_pipeline(LinearRegression())\n",
    "pipe.fit(X_dev, y_dev)\n",
    "mean_squared_error(y_test, pipe.predict(X_test))**0.5"
   ]
  },
  {
   "cell_type": "markdown",
   "metadata": {},
   "source": [
    "### Ridge Regression"
   ]
  },
  {
   "cell_type": "code",
   "execution_count": 126,
   "metadata": {},
   "outputs": [
    {
     "data": {
      "text/plain": [
       "0.8552663768564591"
      ]
     },
     "execution_count": 126,
     "metadata": {},
     "output_type": "execute_result"
    }
   ],
   "source": [
    "pipe_ridge = make_pipeline(RandomizedSearchCV(Ridge(), {'alpha': np.logspace(-2, 2, 10)}, n_iter=100))\n",
    "pipe_ridge.fit(X_dev, y_dev)\n",
    "mean_squared_error(y_test, pipe_ridge.predict(X_test))**0.5"
   ]
  },
  {
   "cell_type": "markdown",
   "metadata": {},
   "source": [
    "### Decision Tree Regressor"
   ]
  },
  {
   "cell_type": "code",
   "execution_count": 88,
   "metadata": {},
   "outputs": [
    {
     "data": {
      "text/plain": [
       "0.877221391467468"
      ]
     },
     "execution_count": 88,
     "metadata": {},
     "output_type": "execute_result"
    }
   ],
   "source": [
    "pipe_dt = make_pipeline(DecisionTreeRegressor(max_depth=8))\n",
    "pipe_dt.fit(X_dev, y_dev)\n",
    "mean_squared_error(y_test, pipe_dt.predict(X_test))**0.5"
   ]
  },
  {
   "cell_type": "code",
   "execution_count": 91,
   "metadata": {},
   "outputs": [
    {
     "data": {
      "text/plain": [
       "0.8531448435669035"
      ]
     },
     "execution_count": 91,
     "metadata": {},
     "output_type": "execute_result"
    }
   ],
   "source": [
    "pipe_rf = make_pipeline(RandomForestRegressor(max_depth = 10))\n",
    "pipe_rf.fit(X_dev, y_dev)\n",
    "mean_squared_error(y_test, pipe_rf.predict(X_test))**0.5"
   ]
  },
  {
   "cell_type": "code",
   "execution_count": 93,
   "metadata": {},
   "outputs": [
    {
     "name": "stdout",
     "output_type": "stream",
     "text": [
      "Fitting 5 folds for each of 5 candidates, totalling 25 fits\n",
      "[CV 1/5] END .....max_depth=9, n_estimators=100;, score=0.249 total time=  22.5s\n",
      "[CV 2/5] END .....max_depth=9, n_estimators=100;, score=0.249 total time=  22.3s\n",
      "[CV 3/5] END .....max_depth=9, n_estimators=100;, score=0.243 total time=  22.3s\n",
      "[CV 4/5] END .....max_depth=9, n_estimators=100;, score=0.264 total time=  22.2s\n",
      "[CV 5/5] END .....max_depth=9, n_estimators=100;, score=0.250 total time=  22.2s\n",
      "[CV 1/5] END ....max_depth=13, n_estimators=150;, score=0.239 total time=  45.8s\n",
      "[CV 2/5] END ....max_depth=13, n_estimators=150;, score=0.243 total time=  46.1s\n",
      "[CV 3/5] END ....max_depth=13, n_estimators=150;, score=0.237 total time=  47.0s\n",
      "[CV 4/5] END ....max_depth=13, n_estimators=150;, score=0.259 total time=  45.8s\n",
      "[CV 5/5] END ....max_depth=13, n_estimators=150;, score=0.240 total time=  45.8s\n",
      "[CV 1/5] END ....max_depth=13, n_estimators=100;, score=0.238 total time=  30.7s\n",
      "[CV 2/5] END ....max_depth=13, n_estimators=100;, score=0.243 total time=  30.6s\n",
      "[CV 3/5] END ....max_depth=13, n_estimators=100;, score=0.235 total time=  30.6s\n",
      "[CV 4/5] END ....max_depth=13, n_estimators=100;, score=0.258 total time=  30.6s\n",
      "[CV 5/5] END ....max_depth=13, n_estimators=100;, score=0.239 total time=  30.4s\n",
      "[CV 1/5] END .....max_depth=8, n_estimators=200;, score=0.249 total time=  40.0s\n",
      "[CV 2/5] END .....max_depth=8, n_estimators=200;, score=0.250 total time=  39.8s\n",
      "[CV 3/5] END .....max_depth=8, n_estimators=200;, score=0.244 total time=  39.7s\n",
      "[CV 4/5] END .....max_depth=8, n_estimators=200;, score=0.264 total time=  39.8s\n",
      "[CV 5/5] END .....max_depth=8, n_estimators=200;, score=0.253 total time=  39.8s\n",
      "[CV 1/5] END ....max_depth=11, n_estimators=150;, score=0.245 total time=  39.5s\n",
      "[CV 2/5] END ....max_depth=11, n_estimators=150;, score=0.248 total time=  39.7s\n",
      "[CV 3/5] END ....max_depth=11, n_estimators=150;, score=0.241 total time=  39.9s\n",
      "[CV 4/5] END ....max_depth=11, n_estimators=150;, score=0.263 total time=  39.7s\n",
      "[CV 5/5] END ....max_depth=11, n_estimators=150;, score=0.246 total time=  39.7s\n"
     ]
    },
    {
     "data": {
      "text/plain": [
       "0.852986332031689"
      ]
     },
     "execution_count": 93,
     "metadata": {},
     "output_type": "execute_result"
    }
   ],
   "source": [
    "pipe_rf = make_pipeline(RandomizedSearchCV(RandomForestRegressor(), \n",
    "                                           {'max_depth': np.arange(5, 15, 1), \n",
    "                                            'n_estimators': np.arange(50,  250, 50)},\n",
    "                                           n_iter = 5,\n",
    "                                           verbose = 5))\n",
    "pipe_rf.fit(X_dev, y_dev)\n",
    "mean_squared_error(y_test, pipe_rf.predict(X_test))**0.5"
   ]
  },
  {
   "cell_type": "code",
   "execution_count": 95,
   "metadata": {},
   "outputs": [
    {
     "data": {
      "text/plain": [
       "0.852986332031689"
      ]
     },
     "execution_count": 95,
     "metadata": {},
     "output_type": "execute_result"
    }
   ],
   "source": [
    "mean_sq uared_error(yscaler.inverse_transform(y_test), yscaler.inverse_transform(pipe_rf.predict(X_test).reshape((-1,1))))**0.5"
   ]
  },
  {
   "cell_type": "code",
   "execution_count": 7,
   "metadata": {},
   "outputs": [
    {
     "data": {
      "text/plain": [
       "array([[1.],\n",
       "       [1.],\n",
       "       [2.],\n",
       "       ...,\n",
       "       [2.],\n",
       "       [0.],\n",
       "       [0.]])"
      ]
     },
     "execution_count": 7,
     "metadata": {},
     "output_type": "execute_result"
    }
   ],
   "source": [
    "yscaler.inverse_transform(y_test)"
   ]
  },
  {
   "cell_type": "code",
   "execution_count": 25,
   "metadata": {},
   "outputs": [
    {
     "data": {
      "text/plain": [
       "5.2558127598419135"
      ]
     },
     "execution_count": 25,
     "metadata": {},
     "output_type": "execute_result"
    }
   ],
   "source": [
    "mean_squared_error(yscaler.inverse_transform(y_test), np.round(yscaler.inverse_transform(pipe.predict(X_test))))"
   ]
  },
  {
   "cell_type": "code",
   "execution_count": 127,
   "metadata": {},
   "outputs": [
    {
     "data": {
      "text/plain": [
       "<AxesSubplot:>"
      ]
     },
     "execution_count": 127,
     "metadata": {},
     "output_type": "execute_result"
    },
    {
     "data": {
      "image/png": "[encoded data removed]",
      "text/plain": [
       "<Figure size 432x288 with 2 Axes>"
      ]
     },
     "metadata": {
      "needs_background": "light"
     },
     "output_type": "display_data"
    }
   ],
   "source": [
    "sns.heatmap(df_dev.corr())"
   ]
  },
  {
   "cell_type": "code",
   "execution_count": 33,
   "metadata": {},
   "outputs": [],
   "source": [
    "from keras.models import Sequential\n",
    "from keras.layers import Dense"
   ]
  },
  {
   "cell_type": "code",
   "execution_count": 135,
   "metadata": {},
   "outputs": [],
   "source": [
    "model = Sequential()\n",
    "model.add(Dense(128, input_dim = X_dev.shape[1], activation = 'tanh'))\n",
    "# model.add(Dense(256, kernel_initializer='normal', activation = 'relu'))\n",
    "# model.add(Dense(128, kernel_initializer='normal', activation = 'relu'))\n",
    "model.add(Dense(64, activation = 'tanh'))\n",
    "model.add(Dense(1, activation = 'linear'))"
   ]
  },
  {
   "cell_type": "code",
   "execution_count": 136,
   "metadata": {},
   "outputs": [],
   "source": [
    "model.compile(optimizer = 'SGD', loss = 'mse')"
   ]
  },
  {
   "cell_type": "code",
   "execution_count": 137,
   "metadata": {
    "scrolled": true
   },
   "outputs": [
    {
     "name": "stdout",
     "output_type": "stream",
     "text": [
      "Epoch 1/25\n",
      "548/548 [==============================] - 1s 2ms/step - loss: 0.7684 - val_loss: 0.7463\n",
      "Epoch 2/25\n",
      "548/548 [==============================] - 1s 2ms/step - loss: 0.7568 - val_loss: 0.7436\n",
      "Epoch 3/25\n",
      "548/548 [==============================] - 1s 2ms/step - loss: 0.7546 - val_loss: 0.7450\n",
      "Epoch 4/25\n",
      "548/548 [==============================] - 1s 2ms/step - loss: 0.7533 - val_loss: 0.7404\n",
      "Epoch 5/25\n",
      "548/548 [==============================] - 1s 2ms/step - loss: 0.7517 - val_loss: 0.7424\n",
      "Epoch 6/25\n",
      "548/548 [==============================] - 1s 2ms/step - loss: 0.7508 - val_loss: 0.7410\n",
      "Epoch 7/25\n",
      "548/548 [==============================] - 1s 2ms/step - loss: 0.7496 - val_loss: 0.7389\n",
      "Epoch 8/25\n",
      "548/548 [==============================] - 1s 2ms/step - loss: 0.7490 - val_loss: 0.7392\n",
      "Epoch 9/25\n",
      "548/548 [==============================] - 1s 2ms/step - loss: 0.7480 - val_loss: 0.7433\n",
      "Epoch 10/25\n",
      "548/548 [==============================] - 1s 2ms/step - loss: 0.7473 - val_loss: 0.7379\n",
      "Epoch 11/25\n",
      "548/548 [==============================] - 1s 2ms/step - loss: 0.7469 - val_loss: 0.7387\n",
      "Epoch 12/25\n",
      "548/548 [==============================] - 1s 2ms/step - loss: 0.7464 - val_loss: 0.7421\n",
      "Epoch 13/25\n",
      "548/548 [==============================] - 1s 2ms/step - loss: 0.7456 - val_loss: 0.7403\n",
      "Epoch 14/25\n",
      "548/548 [==============================] - 1s 2ms/step - loss: 0.7458 - val_loss: 0.7377\n",
      "Epoch 15/25\n",
      "548/548 [==============================] - 1s 2ms/step - loss: 0.7448 - val_loss: 0.7440\n",
      "Epoch 16/25\n",
      "548/548 [==============================] - 1s 2ms/step - loss: 0.7446 - val_loss: 0.7397\n",
      "Epoch 17/25\n",
      "548/548 [==============================] - 1s 2ms/step - loss: 0.7445 - val_loss: 0.7403\n",
      "Epoch 18/25\n",
      "548/548 [==============================] - 1s 2ms/step - loss: 0.7440 - val_loss: 0.7389\n",
      "Epoch 19/25\n",
      "548/548 [==============================] - 1s 2ms/step - loss: 0.7437 - val_loss: 0.7394\n",
      "Epoch 20/25\n",
      "548/548 [==============================] - 1s 2ms/step - loss: 0.7432 - val_loss: 0.7408\n",
      "Epoch 21/25\n",
      "548/548 [==============================] - 1s 2ms/step - loss: 0.7428 - val_loss: 0.7391\n",
      "Epoch 22/25\n",
      "548/548 [==============================] - 1s 2ms/step - loss: 0.7424 - val_loss: 0.7394\n",
      "Epoch 23/25\n",
      "548/548 [==============================] - 1s 2ms/step - loss: 0.7422 - val_loss: 0.7385\n",
      "Epoch 24/25\n",
      "548/548 [==============================] - 1s 2ms/step - loss: 0.7421 - val_loss: 0.7395\n",
      "Epoch 25/25\n",
      "548/548 [==============================] - 1s 2ms/step - loss: 0.7421 - val_loss: 0.7462\n"
     ]
    }
   ],
   "source": [
    "num_epochs = 25\n",
    "history = model.fit(X_dev, y_dev, batch_size = 128, epochs = num_epochs, validation_split = 0.1)"
   ]
  },
  {
   "cell_type": "code",
   "execution_count": 131,
   "metadata": {},
   "outputs": [
    {
     "data": {
      "text/plain": [
       "<matplotlib.legend.Legend at 0x7faebf6f1c40>"
      ]
     },
     "execution_count": 131,
     "metadata": {},
     "output_type": "execute_result"
    },
    {
     "data": {
      "image/png": "[encoded data removed]",
      "text/plain": [
       "<Figure size 432x288 with 1 Axes>"
      ]
     },
     "metadata": {
      "needs_background": "light"
     },
     "output_type": "display_data"
    }
   ],
   "source": [
    "num_epochs = 25\n",
    "plt.plot(range(1, num_epochs + 1), history.history['loss'], label = 'train loss')\n",
    "plt.plot(range(1, num_epochs + 1), history.history['val_loss'], label = 'val loss')\n",
    "plt.legend()"
   ]
  },
  {
   "cell_type": "code",
   "execution_count": 94,
   "metadata": {},
   "outputs": [
    {
     "name": "stdout",
     "output_type": "stream",
     "text": [
      "609/609 [==============================] - 1s 944us/step\n"
     ]
    },
    {
     "data": {
      "text/plain": [
       "array([[0.02397405],\n",
       "       [0.44957256],\n",
       "       [0.        ],\n",
       "       ...,\n",
       "       [0.69651586],\n",
       "       [0.        ],\n",
       "       [0.        ]], dtype=float32)"
      ]
     },
     "execution_count": 94,
     "metadata": {},
     "output_type": "execute_result"
    }
   ],
   "source": [
    "model.predict(X_test)"
   ]
  },
  {
   "cell_type": "code",
   "execution_count": null,
   "metadata": {},
   "outputs": [],
   "source": []
  }
 ],
 "metadata": {
  "kernelspec": {
   "display_name": "Python 3 (ipykernel)",
   "language": "python",
   "name": "python3"
  },
  "language_info": {
   "codemirror_mode": {
    "name": "ipython",
    "version": 3
   },
   "file_extension": ".py",
   "mimetype": "text/x-python",
   "name": "python",
   "nbconvert_exporter": "python",
   "pygments_lexer": "ipython3",
   "version": "3.9.12"
  },
  "varInspector": {
   "cols": {
    "lenName": 16,
    "lenType": 16,
    "lenVar": 40
   },
   "kernels_config": {
    "python": {
     "delete_cmd_postfix": "",
     "delete_cmd_prefix": "del ",
     "library": "var_list.py",
     "varRefreshCmd": "print(var_dic_list())"
    },
    "r": {
     "delete_cmd_postfix": ") ",
     "delete_cmd_prefix": "rm(",
     "library": "var_list.r",
     "varRefreshCmd": "cat(var_dic_list()) "
    }
   },
   "types_to_exclude": [
    "module",
    "function",
    "builtin_function_or_method",
    "instance",
    "_Feature"
   ],
   "window_display": false
  }
 },
 "nbformat": 4,
 "nbformat_minor": 4
}
